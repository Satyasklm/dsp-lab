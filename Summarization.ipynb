{
 "cells": [
  {
   "cell_type": "markdown",
   "metadata": {},
   "source": [
    "# Summarization"
   ]
  },
  {
   "cell_type": "code",
   "execution_count": 1,
   "metadata": {},
   "outputs": [
    {
     "data": {
      "text/html": [
       "<div>\n",
       "<style scoped>\n",
       "    .dataframe tbody tr th:only-of-type {\n",
       "        vertical-align: middle;\n",
       "    }\n",
       "\n",
       "    .dataframe tbody tr th {\n",
       "        vertical-align: top;\n",
       "    }\n",
       "\n",
       "    .dataframe thead th {\n",
       "        text-align: right;\n",
       "    }\n",
       "</style>\n",
       "<table border=\"1\" class=\"dataframe\">\n",
       "  <thead>\n",
       "    <tr style=\"text-align: right;\">\n",
       "      <th></th>\n",
       "      <th>NAME</th>\n",
       "      <th>AGE</th>\n",
       "      <th>SALARY</th>\n",
       "      <th>GENDER</th>\n",
       "      <th>DEPARTMENT</th>\n",
       "    </tr>\n",
       "  </thead>\n",
       "  <tbody>\n",
       "    <tr>\n",
       "      <th>0</th>\n",
       "      <td>abc</td>\n",
       "      <td>21</td>\n",
       "      <td>1500</td>\n",
       "      <td>M</td>\n",
       "      <td>cse</td>\n",
       "    </tr>\n",
       "    <tr>\n",
       "      <th>1</th>\n",
       "      <td>def</td>\n",
       "      <td>18</td>\n",
       "      <td>1900</td>\n",
       "      <td>M</td>\n",
       "      <td>cse</td>\n",
       "    </tr>\n",
       "    <tr>\n",
       "      <th>2</th>\n",
       "      <td>fgh</td>\n",
       "      <td>20</td>\n",
       "      <td>1000</td>\n",
       "      <td>M</td>\n",
       "      <td>ece</td>\n",
       "    </tr>\n",
       "    <tr>\n",
       "      <th>3</th>\n",
       "      <td>ijk</td>\n",
       "      <td>25</td>\n",
       "      <td>2100</td>\n",
       "      <td>F</td>\n",
       "      <td>ece</td>\n",
       "    </tr>\n",
       "    <tr>\n",
       "      <th>4</th>\n",
       "      <td>xyz</td>\n",
       "      <td>19</td>\n",
       "      <td>2500</td>\n",
       "      <td>F</td>\n",
       "      <td>eee</td>\n",
       "    </tr>\n",
       "    <tr>\n",
       "      <th>5</th>\n",
       "      <td>wxy</td>\n",
       "      <td>24</td>\n",
       "      <td>1700</td>\n",
       "      <td>F</td>\n",
       "      <td>mech</td>\n",
       "    </tr>\n",
       "  </tbody>\n",
       "</table>\n",
       "</div>"
      ],
      "text/plain": [
       "  NAME  AGE  SALARY GENDER DEPARTMENT\n",
       "0  abc   21    1500      M        cse\n",
       "1  def   18    1900      M        cse\n",
       "2  fgh   20    1000      M        ece\n",
       "3  ijk   25    2100      F        ece\n",
       "4  xyz   19    2500      F        eee\n",
       "5  wxy   24    1700      F       mech"
      ]
     },
     "execution_count": 1,
     "metadata": {},
     "output_type": "execute_result"
    }
   ],
   "source": [
    "import pandas as pd\n",
    "df=pd.read_csv(\"sample.csv\")\n",
    "df"
   ]
  },
  {
   "cell_type": "code",
   "execution_count": 2,
   "metadata": {},
   "outputs": [
    {
     "name": "stdout",
     "output_type": "stream",
     "text": [
      "<pandas.core.groupby.generic.DataFrameGroupBy object at 0x000002574E276F98>\n"
     ]
    }
   ],
   "source": [
    "print(df.groupby([\"GENDER\"]))"
   ]
  },
  {
   "cell_type": "code",
   "execution_count": 3,
   "metadata": {},
   "outputs": [
    {
     "name": "stdout",
     "output_type": "stream",
     "text": [
      "           NAME  AGE  SALARY GENDER\n",
      "DEPARTMENT                         \n",
      "cse         def   21    1900      M\n",
      "ece         ijk   25    2100      M\n",
      "eee         xyz   19    2500      F\n",
      "mech        wxy   24    1700      F\n"
     ]
    }
   ],
   "source": [
    "print(df.groupby([\"DEPARTMENT\"]).max())"
   ]
  },
  {
   "cell_type": "code",
   "execution_count": 4,
   "metadata": {},
   "outputs": [
    {
     "name": "stdout",
     "output_type": "stream",
     "text": [
      "            AGE  SALARY\n",
      "DEPARTMENT             \n",
      "cse          39    3400\n",
      "ece          45    3100\n",
      "eee          19    2500\n",
      "mech         24    1700\n"
     ]
    }
   ],
   "source": [
    "print(df.groupby([\"DEPARTMENT\"]).sum())"
   ]
  },
  {
   "cell_type": "code",
   "execution_count": 6,
   "metadata": {},
   "outputs": [
    {
     "name": "stdout",
     "output_type": "stream",
     "text": [
      "           NAME  AGE  SALARY GENDER\n",
      "DEPARTMENT                         \n",
      "cse         abc   18    1500      M\n",
      "ece         fgh   20    1000      F\n",
      "eee         xyz   19    2500      F\n",
      "mech        wxy   24    1700      F\n"
     ]
    }
   ],
   "source": [
    "print(df.groupby([\"DEPARTMENT\"]).min())"
   ]
  },
  {
   "cell_type": "code",
   "execution_count": 7,
   "metadata": {},
   "outputs": [
    {
     "name": "stdout",
     "output_type": "stream",
     "text": [
      "{'cse': Int64Index([0, 1], dtype='int64'), 'ece': Int64Index([2, 3], dtype='int64'), 'eee': Int64Index([4], dtype='int64'), 'mech': Int64Index([5], dtype='int64')}\n"
     ]
    }
   ],
   "source": [
    "print(df.groupby([\"DEPARTMENT\"]).groups)"
   ]
  },
  {
   "cell_type": "code",
   "execution_count": 8,
   "metadata": {},
   "outputs": [
    {
     "name": "stdout",
     "output_type": "stream",
     "text": [
      "       NAME  AGE  SALARY DEPARTMENT\n",
      "GENDER                             \n",
      "F       xyz   25    2500       mech\n",
      "M       fgh   21    1900        ece\n"
     ]
    }
   ],
   "source": [
    "print(df.groupby([\"GENDER\"]).max())"
   ]
  },
  {
   "cell_type": "code",
   "execution_count": 9,
   "metadata": {},
   "outputs": [
    {
     "name": "stdout",
     "output_type": "stream",
     "text": [
      "       NAME  AGE  SALARY DEPARTMENT\n",
      "GENDER                             \n",
      "F       ijk   19    1700        ece\n",
      "M       abc   18    1000        cse\n"
     ]
    }
   ],
   "source": [
    "print(df.groupby([\"GENDER\"]).min())"
   ]
  },
  {
   "cell_type": "code",
   "execution_count": 10,
   "metadata": {},
   "outputs": [
    {
     "name": "stdout",
     "output_type": "stream",
     "text": [
      "        AGE  SALARY\n",
      "GENDER             \n",
      "F        68    6300\n",
      "M        59    4400\n"
     ]
    }
   ],
   "source": [
    "print(df.groupby([\"GENDER\"]).sum())"
   ]
  },
  {
   "cell_type": "code",
   "execution_count": 11,
   "metadata": {},
   "outputs": [
    {
     "name": "stdout",
     "output_type": "stream",
     "text": [
      "{'F': Int64Index([3, 4, 5], dtype='int64'), 'M': Int64Index([0, 1, 2], dtype='int64')}\n"
     ]
    }
   ],
   "source": [
    "print(df.groupby([\"GENDER\"]).groups)"
   ]
  },
  {
   "cell_type": "code",
   "execution_count": 12,
   "metadata": {},
   "outputs": [
    {
     "name": "stdout",
     "output_type": "stream",
     "text": [
      "  NAME  AGE  SALARY GENDER DEPARTMENT\n",
      "0  abc   21    1500      M        cse\n",
      "1  def   18    1900      M        cse\n",
      "2  fgh   20    1000      M        ece\n"
     ]
    }
   ],
   "source": [
    "g=df.groupby([\"GENDER\"])\n",
    "print(g.get_group(\"M\"))"
   ]
  },
  {
   "cell_type": "code",
   "execution_count": 14,
   "metadata": {},
   "outputs": [
    {
     "data": {
      "text/plain": [
       "M    3\n",
       "F    3\n",
       "Name: GENDER, dtype: int64"
      ]
     },
     "execution_count": 14,
     "metadata": {},
     "output_type": "execute_result"
    }
   ],
   "source": [
    "df[\"GENDER\"].value_counts()"
   ]
  },
  {
   "cell_type": "code",
   "execution_count": 16,
   "metadata": {},
   "outputs": [
    {
     "name": "stdout",
     "output_type": "stream",
     "text": [
      "{('cse', 'M'): Int64Index([0, 1], dtype='int64'), ('ece', 'F'): Int64Index([3], dtype='int64'), ('ece', 'M'): Int64Index([2], dtype='int64'), ('eee', 'F'): Int64Index([4], dtype='int64'), ('mech', 'F'): Int64Index([5], dtype='int64')}\n"
     ]
    }
   ],
   "source": [
    "a=df.groupby([\"DEPARTMENT\",\"GENDER\"])\n",
    "print(a.groups)"
   ]
  },
  {
   "cell_type": "code",
   "execution_count": 17,
   "metadata": {},
   "outputs": [
    {
     "name": "stdout",
     "output_type": "stream",
     "text": [
      "{('cse', 'M'): Int64Index([0, 1], dtype='int64'), ('ece', 'F'): Int64Index([3], dtype='int64'), ('ece', 'M'): Int64Index([2], dtype='int64'), ('eee', 'F'): Int64Index([4], dtype='int64'), ('mech', 'F'): Int64Index([5], dtype='int64')}\n"
     ]
    }
   ],
   "source": [
    "a=df.groupby([\"DEPARTMENT\",\"GENDER\"])\n",
    "print(a.groups)"
   ]
  },
  {
   "cell_type": "code",
   "execution_count": null,
   "metadata": {},
   "outputs": [],
   "source": []
  }
 ],
 "metadata": {
  "kernelspec": {
   "display_name": "Python 3",
   "language": "python",
   "name": "python3"
  },
  "language_info": {
   "codemirror_mode": {
    "name": "ipython",
    "version": 3
   },
   "file_extension": ".py",
   "mimetype": "text/x-python",
   "name": "python",
   "nbconvert_exporter": "python",
   "pygments_lexer": "ipython3",
   "version": "3.7.3"
  }
 },
 "nbformat": 4,
 "nbformat_minor": 2
}
